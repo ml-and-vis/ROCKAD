{
 "cells": [
  {
   "cell_type": "code",
   "execution_count": 1,
   "metadata": {},
   "outputs": [],
   "source": [
    "### Allow relative import - Only relevant for .ipynb files in /docs\n",
    "import sys\n",
    "import os\n",
    "import random\n",
    "import warnings\n",
    "warnings.filterwarnings(\"ignore\", category=RuntimeWarning)\n",
    "\n",
    "sys.path.append(os.path.abspath(os.pardir))"
   ]
  },
  {
   "cell_type": "code",
   "execution_count": 2,
   "metadata": {},
   "outputs": [],
   "source": [
    "import numpy as np\n",
    "import pandas as pd\n",
    "import matplotlib.pyplot as plt\n",
    "\n",
    "from sktime.datasets import load_UCR_UEA_dataset\n",
    "from sklearn.model_selection import train_test_split\n",
    "\n",
    "from ROCKAD import ROCKAD\n",
    "from ROCKAD import NearestNeighborOCC\n",
    "\n",
    "# Set random state for reproducibility\n",
    "RANDOM_STATE = 42\n"
   ]
  },
  {
   "cell_type": "markdown",
   "metadata": {},
   "source": [
    "#### Univariate Anomaly Detection\n"
   ]
  },
  {
   "cell_type": "code",
   "execution_count": 3,
   "metadata": {},
   "outputs": [],
   "source": [
    "# Load univariate data\n",
    "X, y = load_UCR_UEA_dataset(\"GunPoint\", return_X_y=True)\n",
    "\n",
    "# Split the data and produce anomalies\n",
    "X_train, X_test, y_train, y_test = train_test_split(X, y, test_size=0.2, random_state=RANDOM_STATE)\n",
    "\n",
    "# Create the normal dataset (Normal class: Class 1)  \n",
    "#        the anomaly dataset (Anomaly class: Class 2)\n",
    "X_normal_train = X_train[y_train == '1']\n",
    "\n",
    "X_normal_test = X_test[y_test == '1']\n",
    "X_anomaly_test = X_test[y_test == '2']\n",
    "y_normal_test = y_test[y_test == '1']\n",
    "y_anomaly_test = y_test[y_test == '2']\n",
    "\n",
    "# Merge the test sets \n",
    "X_test = pd.DataFrame(np.concatenate((X_normal_test, X_anomaly_test), axis=0))\n",
    "y_test = np.concatenate((y_normal_test, y_anomaly_test), axis=0)"
   ]
  },
  {
   "cell_type": "code",
   "execution_count": 4,
   "metadata": {},
   "outputs": [],
   "source": [
    "# Initialize and fit ROCKAD\n",
    "rockad = ROCKAD(random_state=RANDOM_STATE).fit(X_normal_train) \n",
    "\n",
    "# Predict anomaly scores\n",
    "scores = rockad.predict_proba(X_test)"
   ]
  },
  {
   "cell_type": "markdown",
   "metadata": {},
   "source": []
  },
  {
   "cell_type": "code",
   "execution_count": 5,
   "metadata": {},
   "outputs": [],
   "source": [
    "# Initialize and fit NearestNeigbor One Class Classifier\n",
    "decision_func = NearestNeighborOCC().fit(scores)\n",
    "\n",
    "# Predict anomalies\n",
    "predictions = decision_func.predict(scores)"
   ]
  },
  {
   "cell_type": "markdown",
   "metadata": {},
   "source": [
    "#### Multivariate Anomaly Detection"
   ]
  },
  {
   "cell_type": "code",
   "execution_count": 6,
   "metadata": {},
   "outputs": [],
   "source": [
    "# Load multivariate data\n",
    "X, y = load_UCR_UEA_dataset(\"BasicMotions\", return_X_y=True)\n",
    "\n",
    "# Split the data and produce anomalies\n",
    "X_train, X_test, y_train, y_test = train_test_split(X, y, test_size=0.2, random_state=RANDOM_STATE)\n",
    "\n",
    "# Create the normal dataset (Normal class: running, walking, badminton)  \n",
    "#        the anomaly dataset (Anomaly class: standing)\n",
    "X_normal_train = X_train[y_train != 'standing']\n",
    "\n",
    "X_normal_test = X_test[y_test != 'standing']\n",
    "X_anomaly_test = X_test[y_test == 'standing']\n",
    "y_normal_test = y_test[y_test != 'standing']\n",
    "y_anomaly_test = y_test[y_test == 'standing']\n",
    "\n",
    "# # Merge the test sets \n",
    "X_test = pd.DataFrame(np.concatenate((X_normal_test, X_anomaly_test), axis=0))\n",
    "y_test = np.concatenate((y_normal_test, y_anomaly_test), axis=0)"
   ]
  },
  {
   "cell_type": "code",
   "execution_count": 7,
   "metadata": {},
   "outputs": [],
   "source": [
    "# Initialize and fit ROCKAD\n",
    "rockad = ROCKAD(random_state=RANDOM_STATE).fit(X_normal_train) \n",
    "\n",
    "# Predict anomaly scores\n",
    "scores = rockad.predict_proba(X_test)"
   ]
  },
  {
   "cell_type": "code",
   "execution_count": 8,
   "metadata": {},
   "outputs": [],
   "source": [
    "# Initialize and fit NearestNeigbor One Class Classifier\n",
    "decision_func = NearestNeighborOCC().fit(scores)\n",
    "\n",
    "# Predict anomalies\n",
    "predictions = decision_func.predict(scores)"
   ]
  }
 ],
 "metadata": {
  "kernelspec": {
   "display_name": "Python 3",
   "language": "python",
   "name": "python3"
  },
  "language_info": {
   "codemirror_mode": {
    "name": "ipython",
    "version": 3
   },
   "file_extension": ".py",
   "mimetype": "text/x-python",
   "name": "python",
   "nbconvert_exporter": "python",
   "pygments_lexer": "ipython3",
   "version": "3.9.16"
  },
  "orig_nbformat": 4
 },
 "nbformat": 4,
 "nbformat_minor": 2
}
